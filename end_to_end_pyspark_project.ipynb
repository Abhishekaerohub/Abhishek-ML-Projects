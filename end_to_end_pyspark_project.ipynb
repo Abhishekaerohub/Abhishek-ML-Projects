{
  "nbformat": 4,
  "nbformat_minor": 0,
  "metadata": {
    "colab": {
      "provenance": []
    },
    "kernelspec": {
      "name": "python3",
      "display_name": "Python 3"
    },
    "language_info": {
      "name": "python"
    }
  },
  "cells": [
    {
      "cell_type": "code",
      "execution_count": 8,
      "metadata": {
        "colab": {
          "base_uri": "https://localhost:8080/"
        },
        "id": "NH85TnawEAOu",
        "outputId": "6dedaf7e-a054-4d0e-f090-69822b746aa4"
      },
      "outputs": [
        {
          "output_type": "stream",
          "name": "stdout",
          "text": [
            "Requirement already satisfied: pyspark in /usr/local/lib/python3.10/dist-packages (3.5.1)\n",
            "Requirement already satisfied: py4j==0.10.9.7 in /usr/local/lib/python3.10/dist-packages (from pyspark) (0.10.9.7)\n"
          ]
        }
      ],
      "source": [
        "pip install pyspark"
      ]
    },
    {
      "cell_type": "code",
      "source": [
        "import pyspark as sp\n",
        "sc=sp.SparkContext.getOrCreate()\n",
        "print(sc)\n",
        "print(sc.version)"
      ],
      "metadata": {
        "colab": {
          "base_uri": "https://localhost:8080/"
        },
        "id": "jXwmPu2GEGVP",
        "outputId": "ec748a53-62b3-45b3-f909-ecb54c771596"
      },
      "execution_count": 9,
      "outputs": [
        {
          "output_type": "stream",
          "name": "stdout",
          "text": [
            "<SparkContext master=local[*] appName=pyspark-shell>\n",
            "3.5.1\n"
          ]
        }
      ]
    },
    {
      "cell_type": "code",
      "source": [
        "from pyspark.sql import SparkSession\n",
        "\n",
        "spark=SparkSession.builder.getOrCreate()\n",
        "\n",
        "print(spark)"
      ],
      "metadata": {
        "colab": {
          "base_uri": "https://localhost:8080/"
        },
        "id": "y03A6jXMEZlf",
        "outputId": "9f3cdffa-2761-4481-bbc2-f60c5b87f639"
      },
      "execution_count": 10,
      "outputs": [
        {
          "output_type": "stream",
          "name": "stdout",
          "text": [
            "<pyspark.sql.session.SparkSession object at 0x7f91b9a1ed70>\n"
          ]
        }
      ]
    },
    {
      "cell_type": "code",
      "source": [
        "import pandas as pd\n",
        "import numpy as np\n",
        "\n",
        "\n",
        "pd_temp=pd.DataFrame(np.random.random(30))\n",
        "\n",
        "spark_temp=spark.createDataFrame(pd_temp)\n",
        "\n",
        "print(spark.catalog.listTables())\n",
        "\n",
        "spark_temp.createOrReplaceTempView(\"temp\")\n",
        "\n",
        "print(spark.catalog.listTables())"
      ],
      "metadata": {
        "colab": {
          "base_uri": "https://localhost:8080/"
        },
        "id": "_fP3VbUBEn7R",
        "outputId": "0b0550b7-a64e-4395-d074-02b375302faf"
      },
      "execution_count": 11,
      "outputs": [
        {
          "output_type": "stream",
          "name": "stdout",
          "text": [
            "[Table(name='temp', catalog=None, namespace=[], description=None, tableType='TEMPORARY', isTemporary=True)]\n",
            "[Table(name='temp', catalog=None, namespace=[], description=None, tableType='TEMPORARY', isTemporary=True)]\n"
          ]
        }
      ]
    },
    {
      "cell_type": "code",
      "source": [],
      "metadata": {
        "id": "zco4J_a3FYCX"
      },
      "execution_count": 11,
      "outputs": []
    },
    {
      "cell_type": "code",
      "source": [
        "file_path='/content/airports.csv'\n",
        "airports=spark.read.csv(file_path,header=True)\n",
        "airports.show()"
      ],
      "metadata": {
        "colab": {
          "base_uri": "https://localhost:8080/"
        },
        "id": "C_A3z4FNFugQ",
        "outputId": "98f94405-f6a5-489a-dd9f-923eae6ab0c2"
      },
      "execution_count": 12,
      "outputs": [
        {
          "output_type": "stream",
          "name": "stdout",
          "text": [
            "+---+--------------------+----------------+-----------------+----+---+---+\n",
            "|faa|                name|             lat|              lon| alt| tz|dst|\n",
            "+---+--------------------+----------------+-----------------+----+---+---+\n",
            "|04G|   Lansdowne Airport|      41.1304722|      -80.6195833|1044| -5|  A|\n",
            "|06A|Moton Field Munic...|      32.4605722|      -85.6800278| 264| -5|  A|\n",
            "|06C| Schaumburg Regional|      41.9893408|      -88.1012428| 801| -6|  A|\n",
            "|06N|     Randall Airport|       41.431912|      -74.3915611| 523| -5|  A|\n",
            "|09J|Jekyll Island Air...|      31.0744722|      -81.4277778|  11| -4|  A|\n",
            "|0A9|Elizabethton Muni...|      36.3712222|      -82.1734167|1593| -4|  A|\n",
            "|0G6|Williams County A...|      41.4673056|      -84.5067778| 730| -5|  A|\n",
            "|0G7|Finger Lakes Regi...|      42.8835647|      -76.7812318| 492| -5|  A|\n",
            "|0P2|Shoestring Aviati...|      39.7948244|      -76.6471914|1000| -5|  U|\n",
            "|0S9|Jefferson County ...|      48.0538086|     -122.8106436| 108| -8|  A|\n",
            "|0W3|Harford County Ai...|      39.5668378|      -76.2024028| 409| -5|  A|\n",
            "|10C|  Galt Field Airport|      42.4028889|      -88.3751111| 875| -6|  U|\n",
            "|17G|Port Bucyrus-Craw...|      40.7815556|      -82.9748056|1003| -5|  A|\n",
            "|19A|Jackson County Ai...|      34.1758638|      -83.5615972| 951| -4|  U|\n",
            "|1A3|Martin Campbell F...|      35.0158056|      -84.3468333|1789| -4|  A|\n",
            "|1B9| Mansfield Municipal|      42.0001331|      -71.1967714| 122| -5|  A|\n",
            "|1C9|Frazier Lake Airpark|54.0133333333333|-124.768333333333| 152| -8|  A|\n",
            "|1CS|Clow Internationa...|      41.6959744|      -88.1292306| 670| -6|  U|\n",
            "|1G3|  Kent State Airport|      41.1513889|      -81.4151111|1134| -4|  A|\n",
            "|1OH|     Fortman Airport|      40.5553253|      -84.3866186| 885| -5|  U|\n",
            "+---+--------------------+----------------+-----------------+----+---+---+\n",
            "only showing top 20 rows\n",
            "\n"
          ]
        }
      ]
    },
    {
      "cell_type": "code",
      "source": [
        "type(airports)"
      ],
      "metadata": {
        "colab": {
          "base_uri": "https://localhost:8080/",
          "height": 187
        },
        "id": "XCk7Km_-F6B7",
        "outputId": "1ed83421-e79e-44bd-f3d3-8ab38bd2d185"
      },
      "execution_count": 13,
      "outputs": [
        {
          "output_type": "execute_result",
          "data": {
            "text/plain": [
              "pyspark.sql.dataframe.DataFrame"
            ],
            "text/html": [
              "<div style=\"max-width:800px; border: 1px solid var(--colab-border-color);\"><style>\n",
              "      pre.function-repr-contents {\n",
              "        overflow-x: auto;\n",
              "        padding: 8px 12px;\n",
              "        max-height: 500px;\n",
              "      }\n",
              "\n",
              "      pre.function-repr-contents.function-repr-contents-collapsed {\n",
              "        cursor: pointer;\n",
              "        max-height: 100px;\n",
              "      }\n",
              "    </style>\n",
              "    <pre style=\"white-space: initial; background:\n",
              "         var(--colab-secondary-surface-color); padding: 8px 12px;\n",
              "         border-bottom: 1px solid var(--colab-border-color);\"><b>pyspark.sql.dataframe.DataFrame</b><br/>def __init__(jdf: JavaObject, sql_ctx: Union[&#x27;SQLContext&#x27;, &#x27;SparkSession&#x27;])</pre><pre class=\"function-repr-contents function-repr-contents-collapsed\" style=\"\"><a class=\"filepath\" style=\"display:none\" href=\"#\">/usr/local/lib/python3.10/dist-packages/pyspark/sql/dataframe.py</a>A distributed collection of data grouped into named columns.\n",
              "\n",
              ".. versionadded:: 1.3.0\n",
              "\n",
              ".. versionchanged:: 3.4.0\n",
              "    Supports Spark Connect.\n",
              "\n",
              "Examples\n",
              "--------\n",
              "A :class:`DataFrame` is equivalent to a relational table in Spark SQL,\n",
              "and can be created using various functions in :class:`SparkSession`:\n",
              "\n",
              "&gt;&gt;&gt; people = spark.createDataFrame([\n",
              "...     {&quot;deptId&quot;: 1, &quot;age&quot;: 40, &quot;name&quot;: &quot;Hyukjin Kwon&quot;, &quot;gender&quot;: &quot;M&quot;, &quot;salary&quot;: 50},\n",
              "...     {&quot;deptId&quot;: 1, &quot;age&quot;: 50, &quot;name&quot;: &quot;Takuya Ueshin&quot;, &quot;gender&quot;: &quot;M&quot;, &quot;salary&quot;: 100},\n",
              "...     {&quot;deptId&quot;: 2, &quot;age&quot;: 60, &quot;name&quot;: &quot;Xinrong Meng&quot;, &quot;gender&quot;: &quot;F&quot;, &quot;salary&quot;: 150},\n",
              "...     {&quot;deptId&quot;: 3, &quot;age&quot;: 20, &quot;name&quot;: &quot;Haejoon Lee&quot;, &quot;gender&quot;: &quot;M&quot;, &quot;salary&quot;: 200}\n",
              "... ])\n",
              "\n",
              "Once created, it can be manipulated using the various domain-specific-language\n",
              "(DSL) functions defined in: :class:`DataFrame`, :class:`Column`.\n",
              "\n",
              "To select a column from the :class:`DataFrame`, use the apply method:\n",
              "\n",
              "&gt;&gt;&gt; age_col = people.age\n",
              "\n",
              "A more concrete example:\n",
              "\n",
              "&gt;&gt;&gt; # To create DataFrame using SparkSession\n",
              "... department = spark.createDataFrame([\n",
              "...     {&quot;id&quot;: 1, &quot;name&quot;: &quot;PySpark&quot;},\n",
              "...     {&quot;id&quot;: 2, &quot;name&quot;: &quot;ML&quot;},\n",
              "...     {&quot;id&quot;: 3, &quot;name&quot;: &quot;Spark SQL&quot;}\n",
              "... ])\n",
              "\n",
              "&gt;&gt;&gt; people.filter(people.age &gt; 30).join(\n",
              "...     department, people.deptId == department.id).groupBy(\n",
              "...     department.name, &quot;gender&quot;).agg({&quot;salary&quot;: &quot;avg&quot;, &quot;age&quot;: &quot;max&quot;}).show()\n",
              "+-------+------+-----------+--------+\n",
              "|   name|gender|avg(salary)|max(age)|\n",
              "+-------+------+-----------+--------+\n",
              "|     ML|     F|      150.0|      60|\n",
              "|PySpark|     M|       75.0|      50|\n",
              "+-------+------+-----------+--------+\n",
              "\n",
              "Notes\n",
              "-----\n",
              "A DataFrame should only be created as described above. It should not be directly\n",
              "created via using the constructor.</pre>\n",
              "      <script>\n",
              "      if (google.colab.kernel.accessAllowed && google.colab.files && google.colab.files.view) {\n",
              "        for (const element of document.querySelectorAll('.filepath')) {\n",
              "          element.style.display = 'block'\n",
              "          element.onclick = (event) => {\n",
              "            event.preventDefault();\n",
              "            event.stopPropagation();\n",
              "            google.colab.files.view(element.textContent, 80);\n",
              "          };\n",
              "        }\n",
              "      }\n",
              "      for (const element of document.querySelectorAll('.function-repr-contents')) {\n",
              "        element.onclick = (event) => {\n",
              "          event.preventDefault();\n",
              "          event.stopPropagation();\n",
              "          element.classList.toggle('function-repr-contents-collapsed');\n",
              "        };\n",
              "      }\n",
              "      </script>\n",
              "      </div>"
            ]
          },
          "metadata": {},
          "execution_count": 13
        }
      ]
    },
    {
      "cell_type": "code",
      "source": [
        "flights=spark.read.csv('/content/flights_small.csv',header=True)\n",
        "flights.show()"
      ],
      "metadata": {
        "colab": {
          "base_uri": "https://localhost:8080/"
        },
        "id": "Bd6TpIk4GvC-",
        "outputId": "c9804daa-3dd9-4ca6-be6c-a4c5842ca90b"
      },
      "execution_count": 14,
      "outputs": [
        {
          "output_type": "stream",
          "name": "stdout",
          "text": [
            "+----+-----+---+--------+---------+--------+---------+-------+-------+------+------+----+--------+--------+----+------+\n",
            "|year|month|day|dep_time|dep_delay|arr_time|arr_delay|carrier|tailnum|flight|origin|dest|air_time|distance|hour|minute|\n",
            "+----+-----+---+--------+---------+--------+---------+-------+-------+------+------+----+--------+--------+----+------+\n",
            "|2014|   12|  8|     658|       -7|     935|       -5|     VX| N846VA|  1780|   SEA| LAX|     132|     954|   6|    58|\n",
            "|2014|    1| 22|    1040|        5|    1505|        5|     AS| N559AS|   851|   SEA| HNL|     360|    2677|  10|    40|\n",
            "|2014|    3|  9|    1443|       -2|    1652|        2|     VX| N847VA|   755|   SEA| SFO|     111|     679|  14|    43|\n",
            "|2014|    4|  9|    1705|       45|    1839|       34|     WN| N360SW|   344|   PDX| SJC|      83|     569|  17|     5|\n",
            "|2014|    3|  9|     754|       -1|    1015|        1|     AS| N612AS|   522|   SEA| BUR|     127|     937|   7|    54|\n",
            "|2014|    1| 15|    1037|        7|    1352|        2|     WN| N646SW|    48|   PDX| DEN|     121|     991|  10|    37|\n",
            "|2014|    7|  2|     847|       42|    1041|       51|     WN| N422WN|  1520|   PDX| OAK|      90|     543|   8|    47|\n",
            "|2014|    5| 12|    1655|       -5|    1842|      -18|     VX| N361VA|   755|   SEA| SFO|      98|     679|  16|    55|\n",
            "|2014|    4| 19|    1236|       -4|    1508|       -7|     AS| N309AS|   490|   SEA| SAN|     135|    1050|  12|    36|\n",
            "|2014|   11| 19|    1812|       -3|    2352|       -4|     AS| N564AS|    26|   SEA| ORD|     198|    1721|  18|    12|\n",
            "|2014|   11|  8|    1653|       -2|    1924|       -1|     AS| N323AS|   448|   SEA| LAX|     130|     954|  16|    53|\n",
            "|2014|    8|  3|    1120|        0|    1415|        2|     AS| N305AS|   656|   SEA| PHX|     154|    1107|  11|    20|\n",
            "|2014|   10| 30|     811|       21|    1038|       29|     AS| N433AS|   608|   SEA| LAS|     127|     867|   8|    11|\n",
            "|2014|   11| 12|    2346|       -4|     217|      -28|     AS| N765AS|   121|   SEA| ANC|     183|    1448|  23|    46|\n",
            "|2014|   10| 31|    1314|       89|    1544|      111|     AS| N713AS|   306|   SEA| SFO|     129|     679|  13|    14|\n",
            "|2014|    1| 29|    2009|        3|    2159|        9|     UA| N27205|  1458|   PDX| SFO|      90|     550|  20|     9|\n",
            "|2014|   12| 17|    2015|       50|    2150|       41|     AS| N626AS|   368|   SEA| SMF|      76|     605|  20|    15|\n",
            "|2014|    8| 11|    1017|       -3|    1613|       -7|     WN| N8634A|   827|   SEA| MDW|     216|    1733|  10|    17|\n",
            "|2014|    1| 13|    2156|       -9|     607|      -15|     AS| N597AS|    24|   SEA| BOS|     290|    2496|  21|    56|\n",
            "|2014|    6|  5|    1733|      -12|    1945|      -10|     OO| N215AG|  3488|   PDX| BUR|     111|     817|  17|    33|\n",
            "+----+-----+---+--------+---------+--------+---------+-------+-------+------+------+----+--------+--------+----+------+\n",
            "only showing top 20 rows\n",
            "\n"
          ]
        }
      ]
    },
    {
      "cell_type": "code",
      "source": [
        "flights.name=flights.createOrReplaceTempView('flights')\n"
      ],
      "metadata": {
        "id": "gpNXQrO3HOi1"
      },
      "execution_count": 15,
      "outputs": []
    },
    {
      "cell_type": "code",
      "source": [
        "flights_df=spark.table('Flights')\n",
        "print(flights_df.show())"
      ],
      "metadata": {
        "colab": {
          "base_uri": "https://localhost:8080/"
        },
        "id": "8FYFmQGVHdjX",
        "outputId": "bd63c481-b7a2-4d64-853b-74178ffd1aa4"
      },
      "execution_count": 16,
      "outputs": [
        {
          "output_type": "stream",
          "name": "stdout",
          "text": [
            "+----+-----+---+--------+---------+--------+---------+-------+-------+------+------+----+--------+--------+----+------+\n",
            "|year|month|day|dep_time|dep_delay|arr_time|arr_delay|carrier|tailnum|flight|origin|dest|air_time|distance|hour|minute|\n",
            "+----+-----+---+--------+---------+--------+---------+-------+-------+------+------+----+--------+--------+----+------+\n",
            "|2014|   12|  8|     658|       -7|     935|       -5|     VX| N846VA|  1780|   SEA| LAX|     132|     954|   6|    58|\n",
            "|2014|    1| 22|    1040|        5|    1505|        5|     AS| N559AS|   851|   SEA| HNL|     360|    2677|  10|    40|\n",
            "|2014|    3|  9|    1443|       -2|    1652|        2|     VX| N847VA|   755|   SEA| SFO|     111|     679|  14|    43|\n",
            "|2014|    4|  9|    1705|       45|    1839|       34|     WN| N360SW|   344|   PDX| SJC|      83|     569|  17|     5|\n",
            "|2014|    3|  9|     754|       -1|    1015|        1|     AS| N612AS|   522|   SEA| BUR|     127|     937|   7|    54|\n",
            "|2014|    1| 15|    1037|        7|    1352|        2|     WN| N646SW|    48|   PDX| DEN|     121|     991|  10|    37|\n",
            "|2014|    7|  2|     847|       42|    1041|       51|     WN| N422WN|  1520|   PDX| OAK|      90|     543|   8|    47|\n",
            "|2014|    5| 12|    1655|       -5|    1842|      -18|     VX| N361VA|   755|   SEA| SFO|      98|     679|  16|    55|\n",
            "|2014|    4| 19|    1236|       -4|    1508|       -7|     AS| N309AS|   490|   SEA| SAN|     135|    1050|  12|    36|\n",
            "|2014|   11| 19|    1812|       -3|    2352|       -4|     AS| N564AS|    26|   SEA| ORD|     198|    1721|  18|    12|\n",
            "|2014|   11|  8|    1653|       -2|    1924|       -1|     AS| N323AS|   448|   SEA| LAX|     130|     954|  16|    53|\n",
            "|2014|    8|  3|    1120|        0|    1415|        2|     AS| N305AS|   656|   SEA| PHX|     154|    1107|  11|    20|\n",
            "|2014|   10| 30|     811|       21|    1038|       29|     AS| N433AS|   608|   SEA| LAS|     127|     867|   8|    11|\n",
            "|2014|   11| 12|    2346|       -4|     217|      -28|     AS| N765AS|   121|   SEA| ANC|     183|    1448|  23|    46|\n",
            "|2014|   10| 31|    1314|       89|    1544|      111|     AS| N713AS|   306|   SEA| SFO|     129|     679|  13|    14|\n",
            "|2014|    1| 29|    2009|        3|    2159|        9|     UA| N27205|  1458|   PDX| SFO|      90|     550|  20|     9|\n",
            "|2014|   12| 17|    2015|       50|    2150|       41|     AS| N626AS|   368|   SEA| SMF|      76|     605|  20|    15|\n",
            "|2014|    8| 11|    1017|       -3|    1613|       -7|     WN| N8634A|   827|   SEA| MDW|     216|    1733|  10|    17|\n",
            "|2014|    1| 13|    2156|       -9|     607|      -15|     AS| N597AS|    24|   SEA| BOS|     290|    2496|  21|    56|\n",
            "|2014|    6|  5|    1733|      -12|    1945|      -10|     OO| N215AG|  3488|   PDX| BUR|     111|     817|  17|    33|\n",
            "+----+-----+---+--------+---------+--------+---------+-------+-------+------+------+----+--------+--------+----+------+\n",
            "only showing top 20 rows\n",
            "\n",
            "None\n"
          ]
        }
      ]
    },
    {
      "cell_type": "code",
      "source": [
        "flights = flights.withColumn('duration_hrs', flights.air_time / 60)\n",
        "flights.show()"
      ],
      "metadata": {
        "colab": {
          "base_uri": "https://localhost:8080/"
        },
        "id": "40XrjwbtHmy4",
        "outputId": "a16855a9-7322-4805-9246-a1438b554d2b"
      },
      "execution_count": 17,
      "outputs": [
        {
          "output_type": "stream",
          "name": "stdout",
          "text": [
            "+----+-----+---+--------+---------+--------+---------+-------+-------+------+------+----+--------+--------+----+------+------------------+\n",
            "|year|month|day|dep_time|dep_delay|arr_time|arr_delay|carrier|tailnum|flight|origin|dest|air_time|distance|hour|minute|      duration_hrs|\n",
            "+----+-----+---+--------+---------+--------+---------+-------+-------+------+------+----+--------+--------+----+------+------------------+\n",
            "|2014|   12|  8|     658|       -7|     935|       -5|     VX| N846VA|  1780|   SEA| LAX|     132|     954|   6|    58|               2.2|\n",
            "|2014|    1| 22|    1040|        5|    1505|        5|     AS| N559AS|   851|   SEA| HNL|     360|    2677|  10|    40|               6.0|\n",
            "|2014|    3|  9|    1443|       -2|    1652|        2|     VX| N847VA|   755|   SEA| SFO|     111|     679|  14|    43|              1.85|\n",
            "|2014|    4|  9|    1705|       45|    1839|       34|     WN| N360SW|   344|   PDX| SJC|      83|     569|  17|     5|1.3833333333333333|\n",
            "|2014|    3|  9|     754|       -1|    1015|        1|     AS| N612AS|   522|   SEA| BUR|     127|     937|   7|    54|2.1166666666666667|\n",
            "|2014|    1| 15|    1037|        7|    1352|        2|     WN| N646SW|    48|   PDX| DEN|     121|     991|  10|    37|2.0166666666666666|\n",
            "|2014|    7|  2|     847|       42|    1041|       51|     WN| N422WN|  1520|   PDX| OAK|      90|     543|   8|    47|               1.5|\n",
            "|2014|    5| 12|    1655|       -5|    1842|      -18|     VX| N361VA|   755|   SEA| SFO|      98|     679|  16|    55|1.6333333333333333|\n",
            "|2014|    4| 19|    1236|       -4|    1508|       -7|     AS| N309AS|   490|   SEA| SAN|     135|    1050|  12|    36|              2.25|\n",
            "|2014|   11| 19|    1812|       -3|    2352|       -4|     AS| N564AS|    26|   SEA| ORD|     198|    1721|  18|    12|               3.3|\n",
            "|2014|   11|  8|    1653|       -2|    1924|       -1|     AS| N323AS|   448|   SEA| LAX|     130|     954|  16|    53|2.1666666666666665|\n",
            "|2014|    8|  3|    1120|        0|    1415|        2|     AS| N305AS|   656|   SEA| PHX|     154|    1107|  11|    20| 2.566666666666667|\n",
            "|2014|   10| 30|     811|       21|    1038|       29|     AS| N433AS|   608|   SEA| LAS|     127|     867|   8|    11|2.1166666666666667|\n",
            "|2014|   11| 12|    2346|       -4|     217|      -28|     AS| N765AS|   121|   SEA| ANC|     183|    1448|  23|    46|              3.05|\n",
            "|2014|   10| 31|    1314|       89|    1544|      111|     AS| N713AS|   306|   SEA| SFO|     129|     679|  13|    14|              2.15|\n",
            "|2014|    1| 29|    2009|        3|    2159|        9|     UA| N27205|  1458|   PDX| SFO|      90|     550|  20|     9|               1.5|\n",
            "|2014|   12| 17|    2015|       50|    2150|       41|     AS| N626AS|   368|   SEA| SMF|      76|     605|  20|    15|1.2666666666666666|\n",
            "|2014|    8| 11|    1017|       -3|    1613|       -7|     WN| N8634A|   827|   SEA| MDW|     216|    1733|  10|    17|               3.6|\n",
            "|2014|    1| 13|    2156|       -9|     607|      -15|     AS| N597AS|    24|   SEA| BOS|     290|    2496|  21|    56| 4.833333333333333|\n",
            "|2014|    6|  5|    1733|      -12|    1945|      -10|     OO| N215AG|  3488|   PDX| BUR|     111|     817|  17|    33|              1.85|\n",
            "+----+-----+---+--------+---------+--------+---------+-------+-------+------+------+----+--------+--------+----+------+------------------+\n",
            "only showing top 20 rows\n",
            "\n"
          ]
        }
      ]
    },
    {
      "cell_type": "code",
      "source": [
        "flights.describe().show()"
      ],
      "metadata": {
        "colab": {
          "base_uri": "https://localhost:8080/"
        },
        "id": "9P4OgD2yHzZm",
        "outputId": "59dae4bd-377b-4ea4-f332-50f4a76db38e"
      },
      "execution_count": 18,
      "outputs": [
        {
          "output_type": "stream",
          "name": "stdout",
          "text": [
            "+-------+------+------------------+-----------------+------------------+------------------+------------------+------------------+-------+-------+-----------------+------+-----+------------------+-----------------+------------------+-----------------+------------------+\n",
            "|summary|  year|             month|              day|          dep_time|         dep_delay|          arr_time|         arr_delay|carrier|tailnum|           flight|origin| dest|          air_time|         distance|              hour|           minute|      duration_hrs|\n",
            "+-------+------+------------------+-----------------+------------------+------------------+------------------+------------------+-------+-------+-----------------+------+-----+------------------+-----------------+------------------+-----------------+------------------+\n",
            "|  count| 10000|             10000|            10000|             10000|             10000|             10000|             10000|  10000|  10000|            10000| 10000|10000|             10000|            10000|             10000|            10000|              9925|\n",
            "|   mean|2014.0|            6.6438|          15.7009|1277.1158561093248| 6.068629421221865|1477.7236802413272|2.2530982367758186|   NULL|   NULL|        1369.1011|  NULL| NULL|152.88423173803525|        1208.1516|12.465434083601286|30.57244774919614| 2.548070528967267|\n",
            "| stddev|   0.0|3.3191600205962097|8.895142019392079| 524.1142951055886|28.808608062751805| 526.5936522261665|31.074918600451877|   NULL|   NULL|1498.714573831908|  NULL| NULL|  72.8656286392139|656.8599023464376| 5.246262953748826|17.98533264217002|1.2144271439868943|\n",
            "|    min|  2014|                 1|                1|                 1|                -1|                 1|                -1|     AA| D942DN|               10|   PDX|  ABQ|               100|             1009|                 0|                0|0.3333333333333333|\n",
            "|    max|  2014|                 9|                9|                NA|                NA|                NA|                NA|     WN|     NA|              998|   SEA|  TUS|                NA|              991|                NA|               NA| 6.816666666666666|\n",
            "+-------+------+------------------+-----------------+------------------+------------------+------------------+------------------+-------+-------+-----------------+------+-----+------------------+-----------------+------------------+-----------------+------------------+\n",
            "\n"
          ]
        }
      ]
    },
    {
      "cell_type": "code",
      "source": [
        "long_flights1=flights.filter('distance >2000')\n",
        "long_flights1.show()"
      ],
      "metadata": {
        "colab": {
          "base_uri": "https://localhost:8080/"
        },
        "id": "vJ5QeL4AIGOU",
        "outputId": "ff5ac80e-8104-470a-bab8-396240ac58fd"
      },
      "execution_count": 19,
      "outputs": [
        {
          "output_type": "stream",
          "name": "stdout",
          "text": [
            "+----+-----+---+--------+---------+--------+---------+-------+-------+------+------+----+--------+--------+----+------+------------------+\n",
            "|year|month|day|dep_time|dep_delay|arr_time|arr_delay|carrier|tailnum|flight|origin|dest|air_time|distance|hour|minute|      duration_hrs|\n",
            "+----+-----+---+--------+---------+--------+---------+-------+-------+------+------+----+--------+--------+----+------+------------------+\n",
            "|2014|    1| 22|    1040|        5|    1505|        5|     AS| N559AS|   851|   SEA| HNL|     360|    2677|  10|    40|               6.0|\n",
            "|2014|    1| 13|    2156|       -9|     607|      -15|     AS| N597AS|    24|   SEA| BOS|     290|    2496|  21|    56| 4.833333333333333|\n",
            "|2014|    9| 26|     610|       -5|    1523|       65|     US| N127UW|   616|   SEA| PHL|     293|    2378|   6|    10| 4.883333333333334|\n",
            "|2014|   12|  4|     954|       -6|    1348|      -17|     HA| N395HA|    29|   SEA| OGG|     333|    2640|   9|    54|              5.55|\n",
            "|2014|    6|  7|    1823|       -7|    2112|      -28|     AS| N512AS|   815|   SEA| LIH|     335|    2701|  18|    23| 5.583333333333333|\n",
            "|2014|    4| 30|     801|        1|    1757|       90|     AS| N407AS|    18|   SEA| MCO|     342|    2554|   8|     1|               5.7|\n",
            "|2014|   11| 29|     905|      155|    1655|      170|     DL| N824DN|  1598|   SEA| ATL|     229|    2182|   9|     5| 3.816666666666667|\n",
            "|2014|    3| 13|    2201|        1|     554|      -14|     UA| N37468|  1275|   SEA| EWR|     268|    2402|  22|     1| 4.466666666666667|\n",
            "|2014|    9|  4|     830|       -5|    1647|      -23|     AS| N583AS|    12|   SEA| BOS|     285|    2496|   8|    30|              4.75|\n",
            "|2014|    4|  1|    1010|       -5|    1258|      -17|     HA| N381HA|    25|   PDX| HNL|     328|    2603|  10|    10| 5.466666666666667|\n",
            "|2014|   12| 26|    2337|        0|     741|       -1|     DL| N3760C|  1358|   PDX| JFK|     274|    2454|  23|    37| 4.566666666666666|\n",
            "|2014|    8| 23|     831|       -4|    1639|       -3|     AS| N435AS|    32|   SEA| PHL|     285|    2378|   8|    31|              4.75|\n",
            "|2014|   10| 15|    2244|        5|     607|        3|     DL| N816DN|  2497|   PDX| ATL|     233|    2172|  22|    44|3.8833333333333333|\n",
            "|2014|    7| 28|    1047|       -8|    1921|       11|     DL| N713TW|  1473|   SEA| JFK|     269|    2422|  10|    47| 4.483333333333333|\n",
            "|2014|    7| 27|     925|       25|    1232|       27|     AS| N513AS|   875|   SEA| LIH|     343|    2701|   9|    25| 5.716666666666667|\n",
            "|2014|    4|  6|    1329|        4|    2159|       NA|     DL| N130DL|  1929|   SEA| ATL|      NA|    2182|  13|    29|              NULL|\n",
            "|2014|    8| 16|     853|        3|    1709|      -21|     AS| N597AS|   774|   SEA| TPA|     294|    2520|   8|    53|               4.9|\n",
            "|2014|    8| 18|    2116|       -4|     541|       18|     B6| N536JB|   264|   SEA| JFK|     304|    2422|  21|    16| 5.066666666666666|\n",
            "|2014|    9| 10|    1308|       -2|    2109|        2|     US| N558UW|  1857|   SEA| CLT|     271|    2279|  13|     8| 4.516666666666667|\n",
            "|2014|   11|  3|     840|        0|    1703|      -17|     AS| N462AS|    38|   SEA| FLL|     307|    2717|   8|    40| 5.116666666666666|\n",
            "+----+-----+---+--------+---------+--------+---------+-------+-------+------+------+----+--------+--------+----+------+------------------+\n",
            "only showing top 20 rows\n",
            "\n"
          ]
        }
      ]
    },
    {
      "cell_type": "code",
      "source": [
        "long_flights2 = flights.filter(flights.distance > 1000 )\n",
        "long_flights2.show()"
      ],
      "metadata": {
        "colab": {
          "base_uri": "https://localhost:8080/"
        },
        "id": "QYH3I3BUM7Zz",
        "outputId": "17921391-477d-40f2-fe94-361122c94fa7"
      },
      "execution_count": 20,
      "outputs": [
        {
          "output_type": "stream",
          "name": "stdout",
          "text": [
            "+----+-----+---+--------+---------+--------+---------+-------+-------+------+------+----+--------+--------+----+------+------------------+\n",
            "|year|month|day|dep_time|dep_delay|arr_time|arr_delay|carrier|tailnum|flight|origin|dest|air_time|distance|hour|minute|      duration_hrs|\n",
            "+----+-----+---+--------+---------+--------+---------+-------+-------+------+------+----+--------+--------+----+------+------------------+\n",
            "|2014|    1| 22|    1040|        5|    1505|        5|     AS| N559AS|   851|   SEA| HNL|     360|    2677|  10|    40|               6.0|\n",
            "|2014|    4| 19|    1236|       -4|    1508|       -7|     AS| N309AS|   490|   SEA| SAN|     135|    1050|  12|    36|              2.25|\n",
            "|2014|   11| 19|    1812|       -3|    2352|       -4|     AS| N564AS|    26|   SEA| ORD|     198|    1721|  18|    12|               3.3|\n",
            "|2014|    8|  3|    1120|        0|    1415|        2|     AS| N305AS|   656|   SEA| PHX|     154|    1107|  11|    20| 2.566666666666667|\n",
            "|2014|   11| 12|    2346|       -4|     217|      -28|     AS| N765AS|   121|   SEA| ANC|     183|    1448|  23|    46|              3.05|\n",
            "|2014|    8| 11|    1017|       -3|    1613|       -7|     WN| N8634A|   827|   SEA| MDW|     216|    1733|  10|    17|               3.6|\n",
            "|2014|    1| 13|    2156|       -9|     607|      -15|     AS| N597AS|    24|   SEA| BOS|     290|    2496|  21|    56| 4.833333333333333|\n",
            "|2014|    9| 26|     610|       -5|    1523|       65|     US| N127UW|   616|   SEA| PHL|     293|    2378|   6|    10| 4.883333333333334|\n",
            "|2014|   12|  4|     954|       -6|    1348|      -17|     HA| N395HA|    29|   SEA| OGG|     333|    2640|   9|    54|              5.55|\n",
            "|2014|    6|  4|    1115|        0|    1346|       -3|     AS| N461AS|   488|   SEA| SAN|     133|    1050|  11|    15| 2.216666666666667|\n",
            "|2014|    6| 26|    2054|       -1|    2318|       -6|     B6| N590JB|   907|   SEA| ANC|     179|    1448|  20|    54|2.9833333333333334|\n",
            "|2014|    6|  7|    1823|       -7|    2112|      -28|     AS| N512AS|   815|   SEA| LIH|     335|    2701|  18|    23| 5.583333333333333|\n",
            "|2014|    4| 30|     801|        1|    1757|       90|     AS| N407AS|    18|   SEA| MCO|     342|    2554|   8|     1|               5.7|\n",
            "|2014|   11| 29|     905|      155|    1655|      170|     DL| N824DN|  1598|   SEA| ATL|     229|    2182|   9|     5| 3.816666666666667|\n",
            "|2014|    6|  2|    2222|        7|      55|       15|     AS| N402AS|    99|   SEA| ANC|     190|    1448|  22|    22|3.1666666666666665|\n",
            "|2014|   11| 15|    1034|       -6|    1414|      -26|     AS| N589AS|   794|   SEA| ABQ|     139|    1180|  10|    34| 2.316666666666667|\n",
            "|2014|   10| 20|    1328|       -1|    1949|        4|     UA| N68805|  1212|   SEA| IAH|     228|    1874|  13|    28|               3.8|\n",
            "|2014|   12| 16|    1500|        0|    1906|       19|     US| N662AW|   500|   SEA| PHX|     151|    1107|  15|     0|2.5166666666666666|\n",
            "|2014|   11| 19|    1319|       -6|    1821|      -14|     DL| N309US|  2164|   PDX| MSP|     169|    1426|  13|    19| 2.816666666666667|\n",
            "|2014|    5| 21|     515|        0|     757|        0|     US| N172US|   593|   SEA| PHX|     143|    1107|   5|    15|2.3833333333333333|\n",
            "+----+-----+---+--------+---------+--------+---------+-------+-------+------+------+----+--------+--------+----+------+------------------+\n",
            "only showing top 20 rows\n",
            "\n"
          ]
        }
      ]
    },
    {
      "cell_type": "code",
      "source": [
        "selected_1 = flights.select('tailnum', 'origin', 'dest')"
      ],
      "metadata": {
        "id": "wBOYzO7-NHY8"
      },
      "execution_count": 21,
      "outputs": []
    },
    {
      "cell_type": "code",
      "source": [
        "temp=flights.select(flights.origin,flights.dest,flights.carrier)"
      ],
      "metadata": {
        "id": "p9FsoVNNNUfG"
      },
      "execution_count": 22,
      "outputs": []
    },
    {
      "cell_type": "code",
      "source": [
        "FilterA=flights.origin=='SEA'\n",
        "FilterB=flights.dest=='PDX'\n"
      ],
      "metadata": {
        "id": "xTNvYhE9Nt1a"
      },
      "execution_count": 23,
      "outputs": []
    },
    {
      "cell_type": "code",
      "source": [
        "selected_2=temp.filter(FilterA).filter(FilterB)\n",
        "selected_2.show()\n"
      ],
      "metadata": {
        "colab": {
          "base_uri": "https://localhost:8080/"
        },
        "id": "X6tOvy1ZNxw7",
        "outputId": "b0ecfdd3-e11d-4170-a5e0-279fd191bceb"
      },
      "execution_count": 24,
      "outputs": [
        {
          "output_type": "stream",
          "name": "stdout",
          "text": [
            "+------+----+-------+\n",
            "|origin|dest|carrier|\n",
            "+------+----+-------+\n",
            "|   SEA| PDX|     OO|\n",
            "|   SEA| PDX|     OO|\n",
            "|   SEA| PDX|     OO|\n",
            "|   SEA| PDX|     OO|\n",
            "|   SEA| PDX|     OO|\n",
            "|   SEA| PDX|     AS|\n",
            "|   SEA| PDX|     OO|\n",
            "|   SEA| PDX|     OO|\n",
            "|   SEA| PDX|     OO|\n",
            "|   SEA| PDX|     OO|\n",
            "|   SEA| PDX|     OO|\n",
            "|   SEA| PDX|     OO|\n",
            "|   SEA| PDX|     OO|\n",
            "|   SEA| PDX|     OO|\n",
            "|   SEA| PDX|     AS|\n",
            "|   SEA| PDX|     OO|\n",
            "|   SEA| PDX|     OO|\n",
            "|   SEA| PDX|     OO|\n",
            "|   SEA| PDX|     OO|\n",
            "|   SEA| PDX|     OO|\n",
            "+------+----+-------+\n",
            "only showing top 20 rows\n",
            "\n"
          ]
        }
      ]
    },
    {
      "cell_type": "code",
      "source": [
        "avg_speed=(flights.distance/(flights.air_time/60)).alias(\"avg_speed\")\n",
        "speed_1=flights.select('origin','dest','tailnum',avg_speed)\n",
        "speed_1.show()"
      ],
      "metadata": {
        "colab": {
          "base_uri": "https://localhost:8080/"
        },
        "id": "sKtij-crOYXu",
        "outputId": "01e1039c-11ce-46cb-a471-eb51572416b6"
      },
      "execution_count": 25,
      "outputs": [
        {
          "output_type": "stream",
          "name": "stdout",
          "text": [
            "+------+----+-------+------------------+\n",
            "|origin|dest|tailnum|         avg_speed|\n",
            "+------+----+-------+------------------+\n",
            "|   SEA| LAX| N846VA| 433.6363636363636|\n",
            "|   SEA| HNL| N559AS| 446.1666666666667|\n",
            "|   SEA| SFO| N847VA|367.02702702702703|\n",
            "|   PDX| SJC| N360SW| 411.3253012048193|\n",
            "|   SEA| BUR| N612AS| 442.6771653543307|\n",
            "|   PDX| DEN| N646SW|491.40495867768595|\n",
            "|   PDX| OAK| N422WN|             362.0|\n",
            "|   SEA| SFO| N361VA| 415.7142857142857|\n",
            "|   SEA| SAN| N309AS| 466.6666666666667|\n",
            "|   SEA| ORD| N564AS| 521.5151515151515|\n",
            "|   SEA| LAX| N323AS| 440.3076923076923|\n",
            "|   SEA| PHX| N305AS|431.29870129870125|\n",
            "|   SEA| LAS| N433AS| 409.6062992125984|\n",
            "|   SEA| ANC| N765AS|474.75409836065575|\n",
            "|   SEA| SFO| N713AS| 315.8139534883721|\n",
            "|   PDX| SFO| N27205| 366.6666666666667|\n",
            "|   SEA| SMF| N626AS|477.63157894736844|\n",
            "|   SEA| MDW| N8634A|481.38888888888886|\n",
            "|   SEA| BOS| N597AS| 516.4137931034483|\n",
            "|   PDX| BUR| N215AG| 441.6216216216216|\n",
            "+------+----+-------+------------------+\n",
            "only showing top 20 rows\n",
            "\n"
          ]
        }
      ]
    },
    {
      "cell_type": "code",
      "source": [
        "speed_2 =flights.selectExpr('origin','dest','tailnum','distance/(air_time/60) as avg_speed')\n",
        "speed_2.show()"
      ],
      "metadata": {
        "colab": {
          "base_uri": "https://localhost:8080/"
        },
        "id": "Dx_Dbv-wPiuX",
        "outputId": "886abd5c-bf45-4487-e1ad-5e1f4321f2b3"
      },
      "execution_count": 26,
      "outputs": [
        {
          "output_type": "stream",
          "name": "stdout",
          "text": [
            "+------+----+-------+------------------+\n",
            "|origin|dest|tailnum|         avg_speed|\n",
            "+------+----+-------+------------------+\n",
            "|   SEA| LAX| N846VA| 433.6363636363636|\n",
            "|   SEA| HNL| N559AS| 446.1666666666667|\n",
            "|   SEA| SFO| N847VA|367.02702702702703|\n",
            "|   PDX| SJC| N360SW| 411.3253012048193|\n",
            "|   SEA| BUR| N612AS| 442.6771653543307|\n",
            "|   PDX| DEN| N646SW|491.40495867768595|\n",
            "|   PDX| OAK| N422WN|             362.0|\n",
            "|   SEA| SFO| N361VA| 415.7142857142857|\n",
            "|   SEA| SAN| N309AS| 466.6666666666667|\n",
            "|   SEA| ORD| N564AS| 521.5151515151515|\n",
            "|   SEA| LAX| N323AS| 440.3076923076923|\n",
            "|   SEA| PHX| N305AS|431.29870129870125|\n",
            "|   SEA| LAS| N433AS| 409.6062992125984|\n",
            "|   SEA| ANC| N765AS|474.75409836065575|\n",
            "|   SEA| SFO| N713AS| 315.8139534883721|\n",
            "|   PDX| SFO| N27205| 366.6666666666667|\n",
            "|   SEA| SMF| N626AS|477.63157894736844|\n",
            "|   SEA| MDW| N8634A|481.38888888888886|\n",
            "|   SEA| BOS| N597AS| 516.4137931034483|\n",
            "|   PDX| BUR| N215AG| 441.6216216216216|\n",
            "+------+----+-------+------------------+\n",
            "only showing top 20 rows\n",
            "\n"
          ]
        }
      ]
    },
    {
      "cell_type": "code",
      "source": [
        "flights.describe().show()"
      ],
      "metadata": {
        "colab": {
          "base_uri": "https://localhost:8080/"
        },
        "id": "4nKJL4BiP0SD",
        "outputId": "e419b0cf-b02b-45ff-f15c-08a61335c1d9"
      },
      "execution_count": 27,
      "outputs": [
        {
          "output_type": "stream",
          "name": "stdout",
          "text": [
            "+-------+------+------------------+-----------------+------------------+------------------+------------------+------------------+-------+-------+-----------------+------+-----+------------------+-----------------+------------------+-----------------+------------------+\n",
            "|summary|  year|             month|              day|          dep_time|         dep_delay|          arr_time|         arr_delay|carrier|tailnum|           flight|origin| dest|          air_time|         distance|              hour|           minute|      duration_hrs|\n",
            "+-------+------+------------------+-----------------+------------------+------------------+------------------+------------------+-------+-------+-----------------+------+-----+------------------+-----------------+------------------+-----------------+------------------+\n",
            "|  count| 10000|             10000|            10000|             10000|             10000|             10000|             10000|  10000|  10000|            10000| 10000|10000|             10000|            10000|             10000|            10000|              9925|\n",
            "|   mean|2014.0|            6.6438|          15.7009|1277.1158561093248| 6.068629421221865|1477.7236802413272|2.2530982367758186|   NULL|   NULL|        1369.1011|  NULL| NULL|152.88423173803525|        1208.1516|12.465434083601286|30.57244774919614| 2.548070528967267|\n",
            "| stddev|   0.0|3.3191600205962097|8.895142019392079| 524.1142951055886|28.808608062751805| 526.5936522261665|31.074918600451877|   NULL|   NULL|1498.714573831908|  NULL| NULL|  72.8656286392139|656.8599023464376| 5.246262953748826|17.98533264217002|1.2144271439868943|\n",
            "|    min|  2014|                 1|                1|                 1|                -1|                 1|                -1|     AA| D942DN|               10|   PDX|  ABQ|               100|             1009|                 0|                0|0.3333333333333333|\n",
            "|    max|  2014|                 9|                9|                NA|                NA|                NA|                NA|     WN|     NA|              998|   SEA|  TUS|                NA|              991|                NA|               NA| 6.816666666666666|\n",
            "+-------+------+------------------+-----------------+------------------+------------------+------------------+------------------+-------+-------+-----------------+------+-----+------------------+-----------------+------------------+-----------------+------------------+\n",
            "\n"
          ]
        }
      ]
    },
    {
      "cell_type": "code",
      "source": [
        "flights=flights.withColumn('distance',flights.distance.cast('float'))\n",
        "flights=flights.withColumn('air_time',flights.air_time.cast('float'))\n",
        "flights.describe('air_time','distance').show()"
      ],
      "metadata": {
        "colab": {
          "base_uri": "https://localhost:8080/"
        },
        "id": "HdpgyJBPTfDQ",
        "outputId": "c493aa97-3ca4-4192-d256-fcbf091ea432"
      },
      "execution_count": 28,
      "outputs": [
        {
          "output_type": "stream",
          "name": "stdout",
          "text": [
            "+-------+------------------+-----------------+\n",
            "|summary|          air_time|         distance|\n",
            "+-------+------------------+-----------------+\n",
            "|  count|              9925|            10000|\n",
            "|   mean|152.88423173803525|        1208.1516|\n",
            "| stddev|  72.8656286392139|656.8599023464376|\n",
            "|    min|              20.0|             93.0|\n",
            "|    max|             409.0|           2724.0|\n",
            "+-------+------------------+-----------------+\n",
            "\n"
          ]
        }
      ]
    },
    {
      "cell_type": "code",
      "source": [
        "flights.filter(flights.origin=='PDX').groupBy().min('distance').show()"
      ],
      "metadata": {
        "colab": {
          "base_uri": "https://localhost:8080/"
        },
        "id": "N3nVUQfFURmE",
        "outputId": "d3d7805e-4df8-4cd9-c2d2-b278f8006228"
      },
      "execution_count": 29,
      "outputs": [
        {
          "output_type": "stream",
          "name": "stdout",
          "text": [
            "+-------------+\n",
            "|min(distance)|\n",
            "+-------------+\n",
            "|        106.0|\n",
            "+-------------+\n",
            "\n"
          ]
        }
      ]
    },
    {
      "cell_type": "code",
      "source": [
        "flights.filter(flights.origin=='SEA').groupBy().max('air_time').show()"
      ],
      "metadata": {
        "colab": {
          "base_uri": "https://localhost:8080/"
        },
        "id": "elbihoe7VFRo",
        "outputId": "bf62fa56-0c71-4e01-937b-72d8f446968a"
      },
      "execution_count": 30,
      "outputs": [
        {
          "output_type": "stream",
          "name": "stdout",
          "text": [
            "+-------------+\n",
            "|max(air_time)|\n",
            "+-------------+\n",
            "|        409.0|\n",
            "+-------------+\n",
            "\n"
          ]
        }
      ]
    },
    {
      "cell_type": "code",
      "source": [
        "flights.filter(flights.carrier=='DL').filter(flights.origin=='SEA').groupBy().avg('Air_time').show()"
      ],
      "metadata": {
        "colab": {
          "base_uri": "https://localhost:8080/"
        },
        "id": "rfkM1qnPVnmq",
        "outputId": "c5170eef-2530-47ce-d8d7-b3117270d428"
      },
      "execution_count": 31,
      "outputs": [
        {
          "output_type": "stream",
          "name": "stdout",
          "text": [
            "+------------------+\n",
            "|     avg(Air_time)|\n",
            "+------------------+\n",
            "|188.20689655172413|\n",
            "+------------------+\n",
            "\n"
          ]
        }
      ]
    },
    {
      "cell_type": "code",
      "source": [
        "flights.withColumn('duration_hrs',flights.air_time/60).groupBy().sum('duration_hrs').show()"
      ],
      "metadata": {
        "colab": {
          "base_uri": "https://localhost:8080/"
        },
        "id": "Xq66pS6pjuC8",
        "outputId": "35e464e7-ad9e-49a3-f771-8b03c94ea94c"
      },
      "execution_count": 32,
      "outputs": [
        {
          "output_type": "stream",
          "name": "stdout",
          "text": [
            "+------------------+\n",
            "| sum(duration_hrs)|\n",
            "+------------------+\n",
            "|25289.600000000126|\n",
            "+------------------+\n",
            "\n"
          ]
        }
      ]
    },
    {
      "cell_type": "code",
      "source": [
        "by_plane=flights.groupby('tailnum').count().show()"
      ],
      "metadata": {
        "colab": {
          "base_uri": "https://localhost:8080/"
        },
        "id": "1rW7N6qVkLPX",
        "outputId": "57d18c5a-ad32-4e56-e87d-b712dc9d988c"
      },
      "execution_count": 33,
      "outputs": [
        {
          "output_type": "stream",
          "name": "stdout",
          "text": [
            "+-------+-----+\n",
            "|tailnum|count|\n",
            "+-------+-----+\n",
            "| N442AS|   38|\n",
            "| N102UW|    2|\n",
            "| N36472|    4|\n",
            "| N38451|    4|\n",
            "| N73283|    4|\n",
            "| N513UA|    2|\n",
            "| N954WN|    5|\n",
            "| N388DA|    3|\n",
            "| N567AA|    1|\n",
            "| N516UA|    2|\n",
            "| N927DN|    1|\n",
            "| N8322X|    1|\n",
            "| N466SW|    1|\n",
            "|  N6700|    1|\n",
            "| N607AS|   45|\n",
            "| N622SW|    4|\n",
            "| N584AS|   31|\n",
            "| N914WN|    4|\n",
            "| N654AW|    2|\n",
            "| N336NW|    1|\n",
            "+-------+-----+\n",
            "only showing top 20 rows\n",
            "\n"
          ]
        }
      ]
    },
    {
      "cell_type": "code",
      "source": [
        "by_origin=flights.groupBy('orgin')"
      ],
      "metadata": {
        "id": "-oXo_igUkkbP"
      },
      "execution_count": 34,
      "outputs": []
    },
    {
      "cell_type": "code",
      "source": [
        "import pyspark.sql.functions as F\n",
        "flights=flights.withColumn('dep_delay',flights.dep_delay.cast('float'))\n",
        "\n",
        "\n",
        "by_month_dest=flights.groupBy('month','dest')"
      ],
      "metadata": {
        "id": "uXwmkzHPleFG"
      },
      "execution_count": 36,
      "outputs": []
    },
    {
      "cell_type": "markdown",
      "source": [],
      "metadata": {
        "id": "d1TETWbd9BsX"
      }
    },
    {
      "cell_type": "code",
      "source": [
        "by_month_dest.avg('dep_delay').show()"
      ],
      "metadata": {
        "colab": {
          "base_uri": "https://localhost:8080/"
        },
        "id": "FYiTMA9d8sSm",
        "outputId": "18dc65c5-0f49-498c-a62d-31aa22b9949a"
      },
      "execution_count": 37,
      "outputs": [
        {
          "output_type": "stream",
          "name": "stdout",
          "text": [
            "+-----+----+--------------------+\n",
            "|month|dest|      avg(dep_delay)|\n",
            "+-----+----+--------------------+\n",
            "|   11| TUS| -2.3333333333333335|\n",
            "|   11| ANC|   7.529411764705882|\n",
            "|    1| BUR|               -1.45|\n",
            "|    1| PDX| -5.6923076923076925|\n",
            "|    6| SBA|                -2.5|\n",
            "|    5| LAX|-0.15789473684210525|\n",
            "|   10| DTW|                 2.6|\n",
            "|    6| SIT|                -1.0|\n",
            "|   10| DFW|  18.176470588235293|\n",
            "|    3| FAI|                -2.2|\n",
            "|   10| SEA|                -0.8|\n",
            "|    2| TUS| -0.6666666666666666|\n",
            "|   12| OGG|  25.181818181818183|\n",
            "|    9| DFW|   4.066666666666666|\n",
            "|    5| EWR|               14.25|\n",
            "|    3| RDM|                -6.2|\n",
            "|    8| DCA|                 2.6|\n",
            "|    7| ATL|   4.675675675675675|\n",
            "|    4| JFK| 0.07142857142857142|\n",
            "|   10| SNA| -1.1333333333333333|\n",
            "+-----+----+--------------------+\n",
            "only showing top 20 rows\n",
            "\n"
          ]
        }
      ]
    },
    {
      "cell_type": "code",
      "source": [
        "airports.show()"
      ],
      "metadata": {
        "colab": {
          "base_uri": "https://localhost:8080/"
        },
        "id": "bYwh1xYG81f5",
        "outputId": "5e53bbbe-6ce2-4375-9a30-7e04c95e6f16"
      },
      "execution_count": 38,
      "outputs": [
        {
          "output_type": "stream",
          "name": "stdout",
          "text": [
            "+---+--------------------+----------------+-----------------+----+---+---+\n",
            "|faa|                name|             lat|              lon| alt| tz|dst|\n",
            "+---+--------------------+----------------+-----------------+----+---+---+\n",
            "|04G|   Lansdowne Airport|      41.1304722|      -80.6195833|1044| -5|  A|\n",
            "|06A|Moton Field Munic...|      32.4605722|      -85.6800278| 264| -5|  A|\n",
            "|06C| Schaumburg Regional|      41.9893408|      -88.1012428| 801| -6|  A|\n",
            "|06N|     Randall Airport|       41.431912|      -74.3915611| 523| -5|  A|\n",
            "|09J|Jekyll Island Air...|      31.0744722|      -81.4277778|  11| -4|  A|\n",
            "|0A9|Elizabethton Muni...|      36.3712222|      -82.1734167|1593| -4|  A|\n",
            "|0G6|Williams County A...|      41.4673056|      -84.5067778| 730| -5|  A|\n",
            "|0G7|Finger Lakes Regi...|      42.8835647|      -76.7812318| 492| -5|  A|\n",
            "|0P2|Shoestring Aviati...|      39.7948244|      -76.6471914|1000| -5|  U|\n",
            "|0S9|Jefferson County ...|      48.0538086|     -122.8106436| 108| -8|  A|\n",
            "|0W3|Harford County Ai...|      39.5668378|      -76.2024028| 409| -5|  A|\n",
            "|10C|  Galt Field Airport|      42.4028889|      -88.3751111| 875| -6|  U|\n",
            "|17G|Port Bucyrus-Craw...|      40.7815556|      -82.9748056|1003| -5|  A|\n",
            "|19A|Jackson County Ai...|      34.1758638|      -83.5615972| 951| -4|  U|\n",
            "|1A3|Martin Campbell F...|      35.0158056|      -84.3468333|1789| -4|  A|\n",
            "|1B9| Mansfield Municipal|      42.0001331|      -71.1967714| 122| -5|  A|\n",
            "|1C9|Frazier Lake Airpark|54.0133333333333|-124.768333333333| 152| -8|  A|\n",
            "|1CS|Clow Internationa...|      41.6959744|      -88.1292306| 670| -6|  U|\n",
            "|1G3|  Kent State Airport|      41.1513889|      -81.4151111|1134| -4|  A|\n",
            "|1OH|     Fortman Airport|      40.5553253|      -84.3866186| 885| -5|  U|\n",
            "+---+--------------------+----------------+-----------------+----+---+---+\n",
            "only showing top 20 rows\n",
            "\n"
          ]
        }
      ]
    },
    {
      "cell_type": "code",
      "source": [
        "airports=airports.withColumnRenamed('faa','dest')"
      ],
      "metadata": {
        "id": "nZagtzZ39KBz"
      },
      "execution_count": 39,
      "outputs": []
    },
    {
      "cell_type": "code",
      "source": [
        "airports.createOrReplaceTempView(\"MyAirport\")\n",
        "spark.sql(\"select name,dst from Myairport where tz==-5\").show()"
      ],
      "metadata": {
        "colab": {
          "base_uri": "https://localhost:8080/"
        },
        "id": "-VMuwBuS-D3O",
        "outputId": "7f0e3479-1822-409c-ba1a-885b243b0b15"
      },
      "execution_count": 40,
      "outputs": [
        {
          "output_type": "stream",
          "name": "stdout",
          "text": [
            "+--------------------+---+\n",
            "|                name|dst|\n",
            "+--------------------+---+\n",
            "|   Lansdowne Airport|  A|\n",
            "|Moton Field Munic...|  A|\n",
            "|     Randall Airport|  A|\n",
            "|Williams County A...|  A|\n",
            "|Finger Lakes Regi...|  A|\n",
            "|Shoestring Aviati...|  U|\n",
            "|Harford County Ai...|  A|\n",
            "|Port Bucyrus-Craw...|  A|\n",
            "| Mansfield Municipal|  A|\n",
            "|     Fortman Airport|  U|\n",
            "| Lowell City Airport|  A|\n",
            "|Suwannee County A...|  A|\n",
            "| Forest Lake Airport|  A|\n",
            "|  Grove City Airport|  A|\n",
            "|Somerset County A...|  A|\n",
            "|Quincy Municipal ...|  A|\n",
            "|Ephraim-Gibraltar...|  A|\n",
            "| Wadsworth Municipal|  A|\n",
            "|Ashland County Ai...|  A|\n",
            "|   Ridgeland Airport|  A|\n",
            "+--------------------+---+\n",
            "only showing top 20 rows\n",
            "\n"
          ]
        }
      ]
    },
    {
      "cell_type": "code",
      "source": [
        "flights_with_airports= flights.join(airports, on='dest', how='leftouter')\n",
        "flights_with_airports.show()"
      ],
      "metadata": {
        "colab": {
          "base_uri": "https://localhost:8080/"
        },
        "id": "ew7NV8mB-cne",
        "outputId": "9f08bf5b-501b-4428-9c93-fc9c55eeb07d"
      },
      "execution_count": 41,
      "outputs": [
        {
          "output_type": "stream",
          "name": "stdout",
          "text": [
            "+----+----+-----+---+--------+---------+--------+---------+-------+-------+------+------+--------+--------+----+------+------------------+--------------------+---------+-----------+----+---+---+\n",
            "|dest|year|month|day|dep_time|dep_delay|arr_time|arr_delay|carrier|tailnum|flight|origin|air_time|distance|hour|minute|      duration_hrs|                name|      lat|        lon| alt| tz|dst|\n",
            "+----+----+-----+---+--------+---------+--------+---------+-------+-------+------+------+--------+--------+----+------+------------------+--------------------+---------+-----------+----+---+---+\n",
            "| LAX|2014|   12|  8|     658|     -7.0|     935|       -5|     VX| N846VA|  1780|   SEA|   132.0|   954.0|   6|    58|               2.2|    Los Angeles Intl|33.942536|-118.408075| 126| -8|  A|\n",
            "| HNL|2014|    1| 22|    1040|      5.0|    1505|        5|     AS| N559AS|   851|   SEA|   360.0|  2677.0|  10|    40|               6.0|       Honolulu Intl|21.318681|-157.922428|  13|-10|  N|\n",
            "| SFO|2014|    3|  9|    1443|     -2.0|    1652|        2|     VX| N847VA|   755|   SEA|   111.0|   679.0|  14|    43|              1.85|  San Francisco Intl|37.618972|-122.374889|  13| -8|  A|\n",
            "| SJC|2014|    4|  9|    1705|     45.0|    1839|       34|     WN| N360SW|   344|   PDX|    83.0|   569.0|  17|     5|1.3833333333333333|Norman Y Mineta S...|  37.3626|-121.929022|  62| -8|  A|\n",
            "| BUR|2014|    3|  9|     754|     -1.0|    1015|        1|     AS| N612AS|   522|   SEA|   127.0|   937.0|   7|    54|2.1166666666666667|            Bob Hope|34.200667|-118.358667| 778| -8|  A|\n",
            "| DEN|2014|    1| 15|    1037|      7.0|    1352|        2|     WN| N646SW|    48|   PDX|   121.0|   991.0|  10|    37|2.0166666666666666|         Denver Intl|39.861656|-104.673178|5431| -7|  A|\n",
            "| OAK|2014|    7|  2|     847|     42.0|    1041|       51|     WN| N422WN|  1520|   PDX|    90.0|   543.0|   8|    47|               1.5|Metropolitan Oakl...|37.721278|-122.220722|   9| -8|  A|\n",
            "| SFO|2014|    5| 12|    1655|     -5.0|    1842|      -18|     VX| N361VA|   755|   SEA|    98.0|   679.0|  16|    55|1.6333333333333333|  San Francisco Intl|37.618972|-122.374889|  13| -8|  A|\n",
            "| SAN|2014|    4| 19|    1236|     -4.0|    1508|       -7|     AS| N309AS|   490|   SEA|   135.0|  1050.0|  12|    36|              2.25|      San Diego Intl|32.733556|-117.189667|  17| -8|  A|\n",
            "| ORD|2014|   11| 19|    1812|     -3.0|    2352|       -4|     AS| N564AS|    26|   SEA|   198.0|  1721.0|  18|    12|               3.3|  Chicago Ohare Intl|41.978603| -87.904842| 668| -6|  A|\n",
            "| LAX|2014|   11|  8|    1653|     -2.0|    1924|       -1|     AS| N323AS|   448|   SEA|   130.0|   954.0|  16|    53|2.1666666666666665|    Los Angeles Intl|33.942536|-118.408075| 126| -8|  A|\n",
            "| PHX|2014|    8|  3|    1120|      0.0|    1415|        2|     AS| N305AS|   656|   SEA|   154.0|  1107.0|  11|    20| 2.566666666666667|Phoenix Sky Harbo...|33.434278|-112.011583|1135| -7|  N|\n",
            "| LAS|2014|   10| 30|     811|     21.0|    1038|       29|     AS| N433AS|   608|   SEA|   127.0|   867.0|   8|    11|2.1166666666666667|      Mc Carran Intl|36.080056| -115.15225|2141| -8|  A|\n",
            "| ANC|2014|   11| 12|    2346|     -4.0|     217|      -28|     AS| N765AS|   121|   SEA|   183.0|  1448.0|  23|    46|              3.05|Ted Stevens Ancho...|61.174361|-149.996361| 152| -9|  A|\n",
            "| SFO|2014|   10| 31|    1314|     89.0|    1544|      111|     AS| N713AS|   306|   SEA|   129.0|   679.0|  13|    14|              2.15|  San Francisco Intl|37.618972|-122.374889|  13| -8|  A|\n",
            "| SFO|2014|    1| 29|    2009|      3.0|    2159|        9|     UA| N27205|  1458|   PDX|    90.0|   550.0|  20|     9|               1.5|  San Francisco Intl|37.618972|-122.374889|  13| -8|  A|\n",
            "| SMF|2014|   12| 17|    2015|     50.0|    2150|       41|     AS| N626AS|   368|   SEA|    76.0|   605.0|  20|    15|1.2666666666666666|     Sacramento Intl|38.695417|-121.590778|  27| -8|  A|\n",
            "| MDW|2014|    8| 11|    1017|     -3.0|    1613|       -7|     WN| N8634A|   827|   SEA|   216.0|  1733.0|  10|    17|               3.6| Chicago Midway Intl|41.785972| -87.752417| 620| -6|  A|\n",
            "| BOS|2014|    1| 13|    2156|     -9.0|     607|      -15|     AS| N597AS|    24|   SEA|   290.0|  2496.0|  21|    56| 4.833333333333333|General Edward La...|42.364347| -71.005181|  19| -5|  A|\n",
            "| BUR|2014|    6|  5|    1733|    -12.0|    1945|      -10|     OO| N215AG|  3488|   PDX|   111.0|   817.0|  17|    33|              1.85|            Bob Hope|34.200667|-118.358667| 778| -8|  A|\n",
            "+----+----+-----+---+--------+---------+--------+---------+-------+-------+------+------+--------+--------+----+------+------------------+--------------------+---------+-----------+----+---+---+\n",
            "only showing top 20 rows\n",
            "\n"
          ]
        }
      ]
    },
    {
      "cell_type": "code",
      "source": [
        "planes=spark.read.csv('/content/planes.csv',header=True)\n",
        "planes.show()"
      ],
      "metadata": {
        "colab": {
          "base_uri": "https://localhost:8080/"
        },
        "id": "LNTU81vv-218",
        "outputId": "27a03567-8d39-483a-bc55-210df17cdcd9"
      },
      "execution_count": 42,
      "outputs": [
        {
          "output_type": "stream",
          "name": "stdout",
          "text": [
            "+-------+----+--------------------+----------------+--------+-------+-----+-----+---------+\n",
            "|tailnum|year|                type|    manufacturer|   model|engines|seats|speed|   engine|\n",
            "+-------+----+--------------------+----------------+--------+-------+-----+-----+---------+\n",
            "| N102UW|1998|Fixed wing multi ...|AIRBUS INDUSTRIE|A320-214|      2|  182|   NA|Turbo-fan|\n",
            "| N103US|1999|Fixed wing multi ...|AIRBUS INDUSTRIE|A320-214|      2|  182|   NA|Turbo-fan|\n",
            "| N104UW|1999|Fixed wing multi ...|AIRBUS INDUSTRIE|A320-214|      2|  182|   NA|Turbo-fan|\n",
            "| N105UW|1999|Fixed wing multi ...|AIRBUS INDUSTRIE|A320-214|      2|  182|   NA|Turbo-fan|\n",
            "| N107US|1999|Fixed wing multi ...|AIRBUS INDUSTRIE|A320-214|      2|  182|   NA|Turbo-fan|\n",
            "| N108UW|1999|Fixed wing multi ...|AIRBUS INDUSTRIE|A320-214|      2|  182|   NA|Turbo-fan|\n",
            "| N109UW|1999|Fixed wing multi ...|AIRBUS INDUSTRIE|A320-214|      2|  182|   NA|Turbo-fan|\n",
            "| N110UW|1999|Fixed wing multi ...|AIRBUS INDUSTRIE|A320-214|      2|  182|   NA|Turbo-fan|\n",
            "| N111US|1999|Fixed wing multi ...|AIRBUS INDUSTRIE|A320-214|      2|  182|   NA|Turbo-fan|\n",
            "| N11206|2000|Fixed wing multi ...|          BOEING| 737-824|      2|  149|   NA|Turbo-fan|\n",
            "| N112US|1999|Fixed wing multi ...|AIRBUS INDUSTRIE|A320-214|      2|  182|   NA|Turbo-fan|\n",
            "| N113UW|1999|Fixed wing multi ...|AIRBUS INDUSTRIE|A320-214|      2|  182|   NA|Turbo-fan|\n",
            "| N114UW|1999|Fixed wing multi ...|AIRBUS INDUSTRIE|A320-214|      2|  182|   NA|Turbo-fan|\n",
            "| N117UW|2000|Fixed wing multi ...|AIRBUS INDUSTRIE|A320-214|      2|  182|   NA|Turbo-fan|\n",
            "| N118US|2000|Fixed wing multi ...|AIRBUS INDUSTRIE|A320-214|      2|  182|   NA|Turbo-fan|\n",
            "| N119US|2000|Fixed wing multi ...|AIRBUS INDUSTRIE|A320-214|      2|  182|   NA|Turbo-fan|\n",
            "| N1200K|1998|Fixed wing multi ...|          BOEING| 767-332|      2|  330|   NA|Turbo-fan|\n",
            "| N1201P|1998|Fixed wing multi ...|          BOEING| 767-332|      2|  330|   NA|Turbo-fan|\n",
            "| N12114|1995|Fixed wing multi ...|          BOEING| 757-224|      2|  178|   NA|Turbo-jet|\n",
            "| N121DE|1987|Fixed wing multi ...|          BOEING| 767-332|      2|  330|   NA|Turbo-fan|\n",
            "+-------+----+--------------------+----------------+--------+-------+-----+-----+---------+\n",
            "only showing top 20 rows\n",
            "\n"
          ]
        }
      ]
    },
    {
      "cell_type": "code",
      "source": [
        "planes=planes.withColumnRenamed('year','plane_year')\n"
      ],
      "metadata": {
        "id": "1wjBW0G7_XSj"
      },
      "execution_count": 43,
      "outputs": []
    },
    {
      "cell_type": "code",
      "source": [
        "model_data=flights.join(planes,on='tailnum',how='leftouter')"
      ],
      "metadata": {
        "id": "WUd5PgEZ_vd7"
      },
      "execution_count": 44,
      "outputs": []
    },
    {
      "cell_type": "code",
      "source": [
        "model_data.describe()"
      ],
      "metadata": {
        "colab": {
          "base_uri": "https://localhost:8080/"
        },
        "id": "2853zMdXAEcN",
        "outputId": "d71c5989-de1e-4881-892b-e740ff7635f4"
      },
      "execution_count": 45,
      "outputs": [
        {
          "output_type": "execute_result",
          "data": {
            "text/plain": [
              "DataFrame[summary: string, tailnum: string, year: string, month: string, day: string, dep_time: string, dep_delay: string, arr_time: string, arr_delay: string, carrier: string, flight: string, origin: string, dest: string, air_time: string, distance: string, hour: string, minute: string, duration_hrs: string, plane_year: string, type: string, manufacturer: string, model: string, engines: string, seats: string, speed: string, engine: string]"
            ]
          },
          "metadata": {},
          "execution_count": 45
        }
      ]
    },
    {
      "cell_type": "code",
      "source": [
        "model_data=model_data.withColumn('arr_delay',model_data.arr_delay.cast('integer'))\n",
        "model_data = model_data.withColumn('air_time' , model_data.air_time.cast('integer'))\n",
        "model_data = model_data.withColumn('month', model_data.month.cast('integer'))\n",
        "model_data = model_data.withColumn('plane_year', model_data.plane_year.cast('integer'))"
      ],
      "metadata": {
        "id": "Ah3K14WSAH14"
      },
      "execution_count": 46,
      "outputs": []
    },
    {
      "cell_type": "code",
      "source": [
        "model_data.describe('arr_delay', 'air_time','month', 'plane_year').show()"
      ],
      "metadata": {
        "colab": {
          "base_uri": "https://localhost:8080/"
        },
        "id": "ZT90561UUGQV",
        "outputId": "30dee62b-0832-4c4c-b7d5-b43116c5eb24"
      },
      "execution_count": 47,
      "outputs": [
        {
          "output_type": "stream",
          "name": "stdout",
          "text": [
            "+-------+------------------+------------------+------------------+-----------------+\n",
            "|summary|         arr_delay|          air_time|             month|       plane_year|\n",
            "+-------+------------------+------------------+------------------+-----------------+\n",
            "|  count|              9925|              9925|             10000|             9354|\n",
            "|   mean|2.2530982367758186|152.88423173803525|            6.6438|2001.594398118452|\n",
            "| stddev|31.074918600451877|  72.8656286392139|3.3191600205962097|58.92921992728455|\n",
            "|    min|               -58|                20|                 1|                0|\n",
            "|    max|               900|               409|                12|             2014|\n",
            "+-------+------------------+------------------+------------------+-----------------+\n",
            "\n"
          ]
        }
      ]
    },
    {
      "cell_type": "code",
      "source": [
        "model_data =model_data.withColumn('plane_age', model_data.year - model_data.plane_year)"
      ],
      "metadata": {
        "id": "5uglzBvZU-Tu"
      },
      "execution_count": 48,
      "outputs": []
    },
    {
      "cell_type": "code",
      "source": [
        "model_data = model_data.withColumn('is_late', model_data.arr_delay >0)\n",
        "\n",
        "model_data = model_data.withColumn('label', model_data.is_late.cast('integer'))\n",
        "\n",
        "model_data.filter(\"arr_delay is not NULL and dep_delay is not NULL and air_time is not NULL and plane_year is not NULL\")"
      ],
      "metadata": {
        "colab": {
          "base_uri": "https://localhost:8080/"
        },
        "id": "MziG7g6LVAMF",
        "outputId": "2803583c-e723-413f-e17e-0e950e77601f"
      },
      "execution_count": 49,
      "outputs": [
        {
          "output_type": "execute_result",
          "data": {
            "text/plain": [
              "DataFrame[tailnum: string, year: string, month: int, day: string, dep_time: string, dep_delay: float, arr_time: string, arr_delay: int, carrier: string, flight: string, origin: string, dest: string, air_time: int, distance: float, hour: string, minute: string, duration_hrs: double, plane_year: int, type: string, manufacturer: string, model: string, engines: string, seats: string, speed: string, engine: string, plane_age: double, is_late: boolean, label: int]"
            ]
          },
          "metadata": {},
          "execution_count": 49
        }
      ]
    },
    {
      "cell_type": "code",
      "source": [
        "from pyspark.ml.feature import StringIndexer, OneHotEncoder"
      ],
      "metadata": {
        "id": "Xl8FqIz9VChJ"
      },
      "execution_count": 50,
      "outputs": []
    },
    {
      "cell_type": "code",
      "source": [
        "carr_indexer = StringIndexer(inputCol='carrier', outputCol='carrier_index')\n",
        "#Create a OneHotEncoder\n",
        "carr_encoder = OneHotEncoder(inputCol='carrier_index', outputCol='carr_fact')"
      ],
      "metadata": {
        "id": "oxv1SinkVPbI"
      },
      "execution_count": 51,
      "outputs": []
    },
    {
      "cell_type": "code",
      "source": [
        "# prompt: # encode the dest column just like you did above\n",
        "\n",
        "dest_indexer = StringIndexer(inputCol='dest', outputCol='dest_index')\n",
        "#Create a OneHotEncoder\n",
        "dest_encoder = OneHotEncoder(inputCol='dest_index', outputCol='dest_fact')\n"
      ],
      "metadata": {
        "id": "F-30lHNmVbHN"
      },
      "execution_count": 53,
      "outputs": []
    },
    {
      "cell_type": "code",
      "source": [
        "# prompt: # Assemble a  Vector\n",
        "\n",
        "from pyspark.ml.feature import VectorAssembler\n",
        "\n",
        "vec_assembler =VectorAssembler(inputCols=['month', 'air_time','carr_fact','dest_fact','plane_age'],\n",
        "                              outputCol='features',handleInvalid=\"skip\")\n"
      ],
      "metadata": {
        "id": "vgq1lKlUVpjQ"
      },
      "execution_count": 54,
      "outputs": []
    },
    {
      "cell_type": "code",
      "source": [
        "# #### Create the pipeline\n",
        "# You're finally ready to create a` Pipeline!` Pipeline is a class in the `pyspark.ml module` that combines all the Estimators and Transformers that you've already created.\n",
        "\n",
        "from pyspark.ml import Pipeline\n",
        "\n",
        "flights_pipe = Pipeline(stages=[dest_indexer, dest_encoder, carr_indexer, carr_encoder, vec_assembler])"
      ],
      "metadata": {
        "id": "MVLI7sxhWERC"
      },
      "execution_count": 55,
      "outputs": []
    },
    {
      "cell_type": "code",
      "source": [
        "piped_data=flights_pipe.fit(model_data).transform(model_data)"
      ],
      "metadata": {
        "id": "Ou72q7zUWOmP"
      },
      "execution_count": 56,
      "outputs": []
    },
    {
      "cell_type": "code",
      "source": [
        "piped_data.show()"
      ],
      "metadata": {
        "colab": {
          "base_uri": "https://localhost:8080/"
        },
        "id": "wqFRBn9GWi_m",
        "outputId": "8ccee921-9e10-419c-a1ad-4696af5430e9"
      },
      "execution_count": 57,
      "outputs": [
        {
          "output_type": "stream",
          "name": "stdout",
          "text": [
            "+-------+----+-----+---+--------+---------+--------+---------+-------+------+------+----+--------+--------+----+------+------------------+----------+--------------------+--------------+-----------+-------+-----+-----+---------+---------+-------+-----+----------+---------------+-------------+--------------+--------------------+\n",
            "|tailnum|year|month|day|dep_time|dep_delay|arr_time|arr_delay|carrier|flight|origin|dest|air_time|distance|hour|minute|      duration_hrs|plane_year|                type|  manufacturer|      model|engines|seats|speed|   engine|plane_age|is_late|label|dest_index|      dest_fact|carrier_index|     carr_fact|            features|\n",
            "+-------+----+-----+---+--------+---------+--------+---------+-------+------+------+----+--------+--------+----+------+------------------+----------+--------------------+--------------+-----------+-------+-----+-----+---------+---------+-------+-----+----------+---------------+-------------+--------------+--------------------+\n",
            "| N846VA|2014|   12|  8|     658|     -7.0|     935|       -5|     VX|  1780|   SEA| LAX|     132|   954.0|   6|    58|               2.2|      2011|Fixed wing multi ...|        AIRBUS|   A320-214|      2|  182|   NA|Turbo-fan|      3.0|  false|    0|       1.0| (68,[1],[1.0])|          8.0|(10,[8],[1.0])|(81,[0,1,10,13,80...|\n",
            "| N559AS|2014|    1| 22|    1040|      5.0|    1505|        5|     AS|   851|   SEA| HNL|     360|  2677.0|  10|    40|               6.0|      2006|Fixed wing multi ...|        BOEING|    737-890|      2|  149|   NA|Turbo-fan|      8.0|   true|    1|      22.0|(68,[22],[1.0])|          0.0|(10,[0],[1.0])|(81,[0,1,2,34,80]...|\n",
            "| N847VA|2014|    3|  9|    1443|     -2.0|    1652|        2|     VX|   755|   SEA| SFO|     111|   679.0|  14|    43|              1.85|      2011|Fixed wing multi ...|        AIRBUS|   A320-214|      2|  182|   NA|Turbo-fan|      3.0|   true|    1|       0.0| (68,[0],[1.0])|          8.0|(10,[8],[1.0])|(81,[0,1,10,12,80...|\n",
            "| N360SW|2014|    4|  9|    1705|     45.0|    1839|       34|     WN|   344|   PDX| SJC|      83|   569.0|  17|     5|1.3833333333333333|      1992|Fixed wing multi ...|        BOEING|    737-3H4|      2|  149|   NA|Turbo-fan|     22.0|   true|    1|       9.0| (68,[9],[1.0])|          1.0|(10,[1],[1.0])|(81,[0,1,3,21,80]...|\n",
            "| N612AS|2014|    3|  9|     754|     -1.0|    1015|        1|     AS|   522|   SEA| BUR|     127|   937.0|   7|    54|2.1166666666666667|      1999|Fixed wing multi ...|        BOEING|    737-790|      2|  151|   NA|Turbo-jet|     15.0|   true|    1|      23.0|(68,[23],[1.0])|          0.0|(10,[0],[1.0])|(81,[0,1,2,35,80]...|\n",
            "| N646SW|2014|    1| 15|    1037|      7.0|    1352|        2|     WN|    48|   PDX| DEN|     121|   991.0|  10|    37|2.0166666666666666|      1997|Fixed wing multi ...|        BOEING|    737-3H4|      2|  149|   NA|Turbo-fan|     17.0|   true|    1|       2.0| (68,[2],[1.0])|          1.0|(10,[1],[1.0])|(81,[0,1,3,14,80]...|\n",
            "| N422WN|2014|    7|  2|     847|     42.0|    1041|       51|     WN|  1520|   PDX| OAK|      90|   543.0|   8|    47|               1.5|      2002|Fixed wing multi ...|        BOEING|    737-7H4|      2|  140|   NA|Turbo-fan|     12.0|   true|    1|      10.0|(68,[10],[1.0])|          1.0|(10,[1],[1.0])|(81,[0,1,3,22,80]...|\n",
            "| N361VA|2014|    5| 12|    1655|     -5.0|    1842|      -18|     VX|   755|   SEA| SFO|      98|   679.0|  16|    55|1.6333333333333333|      2013|Fixed wing multi ...|        AIRBUS|   A320-214|      2|  182|   NA|Turbo-fan|      1.0|  false|    0|       0.0| (68,[0],[1.0])|          8.0|(10,[8],[1.0])|(81,[0,1,10,12,80...|\n",
            "| N309AS|2014|    4| 19|    1236|     -4.0|    1508|       -7|     AS|   490|   SEA| SAN|     135|  1050.0|  12|    36|              2.25|      2001|Fixed wing multi ...|        BOEING|    737-990|      2|  149|   NA|Turbo-jet|     13.0|  false|    0|      12.0|(68,[12],[1.0])|          0.0|(10,[0],[1.0])|(81,[0,1,2,24,80]...|\n",
            "| N564AS|2014|   11| 19|    1812|     -3.0|    2352|       -4|     AS|    26|   SEA| ORD|     198|  1721.0|  18|    12|               3.3|      2006|Fixed wing multi ...|        BOEING|    737-890|      2|  149|   NA|Turbo-fan|      8.0|  false|    0|       6.0| (68,[6],[1.0])|          0.0|(10,[0],[1.0])|(81,[0,1,2,18,80]...|\n",
            "| N323AS|2014|   11|  8|    1653|     -2.0|    1924|       -1|     AS|   448|   SEA| LAX|     130|   954.0|  16|    53|2.1666666666666665|      2004|Fixed wing multi ...|        BOEING|    737-990|      2|  149|   NA|Turbo-jet|     10.0|  false|    0|       1.0| (68,[1],[1.0])|          0.0|(10,[0],[1.0])|(81,[0,1,2,13,80]...|\n",
            "| N305AS|2014|    8|  3|    1120|      0.0|    1415|        2|     AS|   656|   SEA| PHX|     154|  1107.0|  11|    20| 2.566666666666667|      2001|Fixed wing multi ...|        BOEING|    737-990|      2|  149|   NA|Turbo-jet|     13.0|   true|    1|       3.0| (68,[3],[1.0])|          0.0|(10,[0],[1.0])|(81,[0,1,2,15,80]...|\n",
            "| N433AS|2014|   10| 30|     811|     21.0|    1038|       29|     AS|   608|   SEA| LAS|     127|   867.0|   8|    11|2.1166666666666667|      2013|Fixed wing multi ...|        BOEING|  737-990ER|      2|  222|   NA|Turbo-fan|      1.0|   true|    1|       4.0| (68,[4],[1.0])|          0.0|(10,[0],[1.0])|(81,[0,1,2,16,80]...|\n",
            "| N765AS|2014|   11| 12|    2346|     -4.0|     217|      -28|     AS|   121|   SEA| ANC|     183|  1448.0|  23|    46|              3.05|      1992|Fixed wing multi ...|        BOEING|    737-4Q8|      2|  149|   NA|Turbo-fan|     22.0|  false|    0|       5.0| (68,[5],[1.0])|          0.0|(10,[0],[1.0])|(81,[0,1,2,17,80]...|\n",
            "| N713AS|2014|   10| 31|    1314|     89.0|    1544|      111|     AS|   306|   SEA| SFO|     129|   679.0|  13|    14|              2.15|      1999|Fixed wing multi ...|        BOEING|    737-490|      2|  149|   NA|Turbo-jet|     15.0|   true|    1|       0.0| (68,[0],[1.0])|          0.0|(10,[0],[1.0])|(81,[0,1,2,12,80]...|\n",
            "| N27205|2014|    1| 29|    2009|      3.0|    2159|        9|     UA|  1458|   PDX| SFO|      90|   550.0|  20|     9|               1.5|      2000|Fixed wing multi ...|        BOEING|    737-824|      2|  149|   NA|Turbo-fan|     14.0|   true|    1|       0.0| (68,[0],[1.0])|          4.0|(10,[4],[1.0])|(81,[0,1,6,12,80]...|\n",
            "| N626AS|2014|   12| 17|    2015|     50.0|    2150|       41|     AS|   368|   SEA| SMF|      76|   605.0|  20|    15|1.2666666666666666|      2001|Fixed wing multi ...|        BOEING|    737-790|      2|  151|   NA|Turbo-jet|     13.0|   true|    1|      11.0|(68,[11],[1.0])|          0.0|(10,[0],[1.0])|(81,[0,1,2,23,80]...|\n",
            "| N8634A|2014|    8| 11|    1017|     -3.0|    1613|       -7|     WN|   827|   SEA| MDW|     216|  1733.0|  10|    17|               3.6|      2014|Fixed wing multi ...|        BOEING|    737-8H4|      2|  140|   NA|Turbo-fan|      0.0|  false|    0|      30.0|(68,[30],[1.0])|          1.0|(10,[1],[1.0])|(81,[0,1,3,42],[8...|\n",
            "| N597AS|2014|    1| 13|    2156|     -9.0|     607|      -15|     AS|    24|   SEA| BOS|     290|  2496.0|  21|    56| 4.833333333333333|      2008|Fixed wing multi ...|        BOEING|    737-890|      2|  149|   NA|Turbo-fan|      6.0|  false|    0|      24.0|(68,[24],[1.0])|          0.0|(10,[0],[1.0])|(81,[0,1,2,36,80]...|\n",
            "| N215AG|2014|    6|  5|    1733|    -12.0|    1945|      -10|     OO|  3488|   PDX| BUR|     111|   817.0|  17|    33|              1.85|      2001|Fixed wing multi ...|BOMBARDIER INC|CL-600-2C10|      2|   80|   NA|Turbo-fan|     13.0|  false|    0|      23.0|(68,[23],[1.0])|          2.0|(10,[2],[1.0])|(81,[0,1,4,35,80]...|\n",
            "+-------+----+-----+---+--------+---------+--------+---------+-------+------+------+----+--------+--------+----+------+------------------+----------+--------------------+--------------+-----------+-------+-----+-----+---------+---------+-------+-----+----------+---------------+-------------+--------------+--------------------+\n",
            "only showing top 20 rows\n",
            "\n"
          ]
        }
      ]
    },
    {
      "cell_type": "code",
      "source": [
        "training, test = piped_data.randomSplit([.7, .3])\n"
      ],
      "metadata": {
        "id": "MATCsAWAWlSQ"
      },
      "execution_count": 59,
      "outputs": []
    },
    {
      "cell_type": "code",
      "source": [
        "from pyspark.ml.classification import LogisticRegression\n",
        "\n",
        "lr = LogisticRegression()"
      ],
      "metadata": {
        "id": "481C2-DRW1jq"
      },
      "execution_count": 60,
      "outputs": []
    },
    {
      "cell_type": "code",
      "source": [
        "import pyspark.ml.evaluation as evals\n",
        "\n",
        "evaluator = evals.BinaryClassificationEvaluator(metricName='areaUnderROC')"
      ],
      "metadata": {
        "id": "SLHcx1ztW-PA"
      },
      "execution_count": 61,
      "outputs": []
    },
    {
      "cell_type": "code",
      "source": [
        "import pyspark.ml.tuning as tune\n",
        "\n",
        "# Create the parameter grid\n",
        "grid = tune.ParamGridBuilder()\n",
        "\n",
        "# Add the hyperparameter\n",
        "grid = grid.addGrid(lr.regParam, np.arange(0, .1, .01))\n",
        "grid = grid.addGrid(lr.elasticNetParam, [0,1])\n",
        "\n",
        "# Build the grid\n",
        "grid = grid.build()"
      ],
      "metadata": {
        "id": "ySJorkWuXAzh"
      },
      "execution_count": 62,
      "outputs": []
    },
    {
      "cell_type": "code",
      "source": [
        "# Create the CrossValidator\n",
        "cv = tune.CrossValidator(estimator=lr,\n",
        "               estimatorParamMaps=grid,\n",
        "               evaluator=evaluator\n",
        "               )"
      ],
      "metadata": {
        "id": "00SRg05TbDuV"
      },
      "execution_count": 63,
      "outputs": []
    },
    {
      "cell_type": "code",
      "source": [
        "# Fit cross validation models\n",
        "models = cv.fit(training)"
      ],
      "metadata": {
        "id": "7JLEWm0kbGLy"
      },
      "execution_count": 64,
      "outputs": []
    },
    {
      "cell_type": "code",
      "source": [
        "# Extract the best model\n",
        "best_lr = models.bestModel"
      ],
      "metadata": {
        "id": "mezF4PAZbHfC"
      },
      "execution_count": 65,
      "outputs": []
    },
    {
      "cell_type": "code",
      "source": [
        "# Use the model to predict the test set\n",
        "test_results = best_lr.transform(test)\n",
        "#\n",
        "# Evaluate the predictions\n",
        "print(evaluator.evaluate(test_results))"
      ],
      "metadata": {
        "colab": {
          "base_uri": "https://localhost:8080/"
        },
        "id": "g4Aw7iLBbJuj",
        "outputId": "bb6b756c-7bf4-4be9-c33b-6c322beb0bbc"
      },
      "execution_count": 66,
      "outputs": [
        {
          "output_type": "stream",
          "name": "stdout",
          "text": [
            "0.688887667253052\n"
          ]
        }
      ]
    },
    {
      "cell_type": "code",
      "source": [],
      "metadata": {
        "id": "19QhBs_MbLCh"
      },
      "execution_count": null,
      "outputs": []
    }
  ]
}